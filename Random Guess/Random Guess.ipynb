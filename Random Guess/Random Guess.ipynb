{
 "cells": [
  {
   "cell_type": "markdown",
   "metadata": {},
   "source": [
    "## According to wikipedia\n",
    "Randomness is the lack of pattern or predictability in events. A random sequence of events, symbols or steps has no order and does not follow an intelligible pattern or combination.\n"
   ]
  },
  {
   "cell_type": "markdown",
   "metadata": {},
   "source": [
    "### In Machine learning\n",
    "\n",
    "In machine learning, if we are given a dataset for either classification or regression. Random guess will create an output randomly. Now it is extremely important to understand the meaning of random here, random does not mean out of the Blue. For e.g. if I toss a coin and I ask you what would be the outcome you will reply either \"heads\" or \"tails\" which one I don't know, this is randomness. But any other answer apart from \"heads\" and \"tail\" is not Random , its stupid :) . \n",
    "\n",
    "A random variable or value is an outcome of a random event, such that the outcome is not dependent of any of the event state. Meaning same conditions will produce different outcome everytime for the same event. \n"
   ]
  },
  {
   "cell_type": "markdown",
   "metadata": {},
   "source": [
    "### Why is this important ?\n",
    "\n",
    "First thing that should come to mind here is why I am learning this. A machine learning model which returns a random outcome is not a good model, any human can out-perform it ( we are great at making wild guesses). \n",
    "\n",
    "And you would be right, its is useless from prediction perspective but it helps set a benchmark. \n",
    "\n",
    "If there is a machine learning problem that needs to be solved.  "
   ]
  }
 ],
 "metadata": {
  "kernelspec": {
   "display_name": "Python 3",
   "language": "python",
   "name": "python3"
  },
  "language_info": {
   "codemirror_mode": {
    "name": "ipython",
    "version": 3
   },
   "file_extension": ".py",
   "mimetype": "text/x-python",
   "name": "python",
   "nbconvert_exporter": "python",
   "pygments_lexer": "ipython3",
   "version": "3.6.6"
  }
 },
 "nbformat": 4,
 "nbformat_minor": 2
}
