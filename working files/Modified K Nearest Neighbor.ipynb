{
 "cells": [
  {
   "cell_type": "code",
   "execution_count": 25,
   "metadata": {},
   "outputs": [],
   "source": [
    "from sklearn import datasets\n",
    "import numpy as np\n",
    "import pandas as pd\n",
    "import matplotlib.pyplot as plt\n",
    "import seaborn as sns\n",
    "import random\n",
    "import math\n",
    "from collections import Counter \n",
    "import time\n",
    "%matplotlib inline"
   ]
  },
  {
   "cell_type": "code",
   "execution_count": 26,
   "metadata": {},
   "outputs": [],
   "source": [
    "def split_data(train_data,train_y,split_ratio):\n",
    "    \n",
    "    train_data['target'] = train_y\n",
    "    if isinstance(split_ratio,int):\n",
    "        test_size = split_ratio\n",
    "    else:\n",
    "        test_size = round(split_ratio * len(train_data))\n",
    "    \n",
    "    \n",
    "    incides = train_data.index.tolist()\n",
    "    test_indices = random.sample(population=incides,k=test_size)\n",
    "    \n",
    "    test = train_data.loc[test_indices]\n",
    "    train = train_data.drop(test_indices)\n",
    "    \n",
    "    train_y = train['target'].reset_index(drop=True)\n",
    "    train_X = train.drop(['target'],axis=1).reset_index(drop=True)\n",
    "    \n",
    "    test_y = test['target'].reset_index(drop=True)\n",
    "    test_X = test.drop(['target'],axis=1).reset_index(drop=True)\n",
    "    \n",
    "    return train_X,train_y,test_X,test_y"
   ]
  },
  {
   "cell_type": "code",
   "execution_count": 27,
   "metadata": {},
   "outputs": [],
   "source": [
    "def accuracy(prediction,actual):\n",
    "    Accuracy= (prediction==actual)\n",
    "    Accuracy = Accuracy.mean()\n",
    "    \n",
    "    return Accuracy"
   ]
  },
  {
   "cell_type": "code",
   "execution_count": 28,
   "metadata": {},
   "outputs": [],
   "source": [
    "def RMSE(prediction,actual):\n",
    "    \n",
    "    actual = actual.values\n",
    "    total_error = 0\n",
    "    \n",
    "    for i in range(len(prediction)):\n",
    "        error = (prediction[i] - actual[i])**2\n",
    "        total_error += error\n",
    "    \n",
    "    mean_error = total_error/len(prediction)\n",
    "    rmse = mean_error ** (1/2)\n",
    "    \n",
    "    return rmse"
   ]
  },
  {
   "cell_type": "code",
   "execution_count": 29,
   "metadata": {},
   "outputs": [],
   "source": [
    "iris = datasets.load_iris()\n",
    "train = pd.DataFrame(iris['data'])\n",
    "train_y = iris['target']\n",
    "train_X,train_y,test_X,test_y = split_data(train,train_y,split_ratio=30)"
   ]
  },
  {
   "cell_type": "code",
   "execution_count": 30,
   "metadata": {},
   "outputs": [],
   "source": [
    "output = []\n",
    "k = 2\n",
    "for i in range(len(test_X)):\n",
    "    distance_tuple = []\n",
    "    for ii in range(len(train_X)):\n",
    "        distance_tuple.append((math.sqrt(sum([(a - b) ** 2 for a, b in zip(train_X.loc[ii], test_X.loc[i])])),train_y[ii]))\n",
    "    distance_tuple.sort()\n",
    "    neighbors = distance_tuple[0:k]\n",
    "    neighbors_class = [i[1] for i in neighbors]\n",
    "    data = Counter(neighbors_class) \n",
    "    get_mode = dict(data) \n",
    "    mode = [k for k, v in get_mode.items() if v == max(list(data.values()))] \n",
    "    output.append(mode[0])"
   ]
  },
  {
   "cell_type": "code",
   "execution_count": 31,
   "metadata": {},
   "outputs": [],
   "source": [
    "sample_train_X,sample_train_y,sample_test_X,sample_test_y = split_data(train_X,train_y,split_ratio=0.90)"
   ]
  },
  {
   "cell_type": "code",
   "execution_count": 32,
   "metadata": {},
   "outputs": [],
   "source": [
    "k = 3\n",
    "for i in range(len(sample_test_X)):\n",
    "    distance_tuple = []\n",
    "    for ii in range(len(sample_train_X)):\n",
    "        distance_tuple.append((math.sqrt(sum([(a - b) ** 2 for a, b in zip(sample_train_X.loc[ii], sample_test_X.loc[i])])),sample_train_y[ii]))\n",
    "    distance_tuple.sort()\n",
    "    neighbors = distance_tuple[0:k]\n",
    "    neighbors_class = [i[1] for i in neighbors]\n",
    "    data = Counter(neighbors_class) \n",
    "    get_mode = dict(data) \n",
    "    mode = [k for k, v in get_mode.items() if v == max(list(data.values()))] \n",
    "    if mode != sample_test_y[i]:\n",
    "        current_train_size = len(sample_train_X)\n",
    "        sample_train_X=sample_train_X.append(sample_test_X.loc[i],ignore_index=True)\n",
    "        sample_test_y_value = sample_test_y[i].item()\n",
    "        sample_train_y = np.append(sample_train_y,[sample_test_y_value],axis=0)"
   ]
  },
  {
   "cell_type": "code",
   "execution_count": 33,
   "metadata": {},
   "outputs": [
    {
     "data": {
      "text/plain": [
       "(20,)"
      ]
     },
     "execution_count": 33,
     "metadata": {},
     "output_type": "execute_result"
    }
   ],
   "source": [
    "sample_train_y.shape"
   ]
  },
  {
   "cell_type": "code",
   "execution_count": 34,
   "metadata": {},
   "outputs": [
    {
     "data": {
      "text/plain": [
       "numpy.int32"
      ]
     },
     "execution_count": 34,
     "metadata": {},
     "output_type": "execute_result"
    }
   ],
   "source": [
    "type(sample_test_y[i])"
   ]
  },
  {
   "cell_type": "code",
   "execution_count": null,
   "metadata": {},
   "outputs": [],
   "source": []
  },
  {
   "cell_type": "code",
   "execution_count": 35,
   "metadata": {},
   "outputs": [
    {
     "data": {
      "text/plain": [
       "1"
      ]
     },
     "execution_count": 35,
     "metadata": {},
     "output_type": "execute_result"
    }
   ],
   "source": [
    "sample_test_y[1]"
   ]
  },
  {
   "cell_type": "code",
   "execution_count": null,
   "metadata": {},
   "outputs": [],
   "source": []
  },
  {
   "cell_type": "code",
   "execution_count": 41,
   "metadata": {},
   "outputs": [],
   "source": [
    "class ModifiedknnClassifier:\n",
    "    def __init__(self):\n",
    "        pass\n",
    "    \n",
    "    def fit(self,train_X,train_y,k=5):\n",
    "        k = 3\n",
    "        sample_train_X,sample_train_y,sample_test_X,sample_test_y = split_data(train_X,train_y,split_ratio=0.70)\n",
    "        for i in range(len(sample_test_X)):\n",
    "            distance_tuple = []\n",
    "            for ii in range(len(sample_train_X)):\n",
    "                distance_tuple.append((math.sqrt(sum([(a - b) ** 2 for a, b in zip(sample_train_X.loc[ii], sample_test_X.loc[i])])),sample_train_y[ii]))\n",
    "            distance_tuple.sort()\n",
    "            neighbors = distance_tuple[0:k]\n",
    "            neighbors_class = [i[1] for i in neighbors]\n",
    "            data = Counter(neighbors_class) \n",
    "            get_mode = dict(data) \n",
    "            mode = [k for k, v in get_mode.items() if v == max(list(data.values()))] \n",
    "            if mode != sample_test_y[i]:\n",
    "                current_train_size = len(sample_train_X)\n",
    "                sample_train_X=sample_train_X.append(sample_test_X.loc[i],ignore_index=True)\n",
    "                sample_test_y_value = sample_test_y[i].item()\n",
    "                sample_train_y = np.append(sample_train_y,[sample_test_y_value],axis=0)\n",
    "        \n",
    "        \n",
    "        self.X = sample_train_X\n",
    "        self.Y = sample_train_y\n",
    "        self.k = k\n",
    "        \n",
    "    def predict(self,test_X):\n",
    "        output = []\n",
    "        for i in range(len(test_X)):\n",
    "            distance_tuple = []\n",
    "            for ii in range(len(self.X)):\n",
    "                distance_tuple.append((math.sqrt(sum([(a-b)**2 for a,b in zip(test_X.loc[i],self.X.loc[ii])])),self.Y[ii]))\n",
    "            distance_tuple.sort()\n",
    "            neighbors = distance_tuple[0:k]\n",
    "            neighbors_class = [i[1] for i in neighbors]\n",
    "            data = Counter(neighbors_class) \n",
    "            get_mode = dict(data) \n",
    "            mode = [k for k, v in get_mode.items() if v == max(list(data.values()))] \n",
    "            output.append(mode[0])\n",
    "        \n",
    "        return output\n"
   ]
  },
  {
   "cell_type": "code",
   "execution_count": 42,
   "metadata": {},
   "outputs": [],
   "source": [
    "iris = datasets.load_iris()\n",
    "train = pd.DataFrame(iris['data'])\n",
    "train_y = iris['target']\n",
    "train_X,train_y,test_X,test_y = split_data(train,train_y,split_ratio=50)"
   ]
  },
  {
   "cell_type": "code",
   "execution_count": 43,
   "metadata": {},
   "outputs": [
    {
     "name": "stdout",
     "output_type": "stream",
     "text": [
      "Processing time : 0.9647817611694336\n"
     ]
    }
   ],
   "source": [
    "\n",
    "clf = ModifiedknnClassifier()\n",
    "start = time.time()\n",
    "clf.fit(train_X,train_y,5)\n",
    "end = time.time()\n",
    "print('Processing time : {}'.format(end-start))"
   ]
  },
  {
   "cell_type": "code",
   "execution_count": 44,
   "metadata": {},
   "outputs": [
    {
     "name": "stdout",
     "output_type": "stream",
     "text": [
      "Processing time : 0.8310015201568604\n"
     ]
    }
   ],
   "source": [
    "start = time.time()\n",
    "prediction = clf.predict(test_X)\n",
    "end = time.time()\n",
    "print('Processing time : {}'.format(end-start))"
   ]
  },
  {
   "cell_type": "code",
   "execution_count": 40,
   "metadata": {},
   "outputs": [
    {
     "name": "stdout",
     "output_type": "stream",
     "text": [
      "0.94\n"
     ]
    }
   ],
   "source": [
    "print(accuracy(prediction,test_y))"
   ]
  },
  {
   "cell_type": "code",
   "execution_count": 86,
   "metadata": {},
   "outputs": [
    {
     "data": {
      "text/html": [
       "<div>\n",
       "<style scoped>\n",
       "    .dataframe tbody tr th:only-of-type {\n",
       "        vertical-align: middle;\n",
       "    }\n",
       "\n",
       "    .dataframe tbody tr th {\n",
       "        vertical-align: top;\n",
       "    }\n",
       "\n",
       "    .dataframe thead th {\n",
       "        text-align: right;\n",
       "    }\n",
       "</style>\n",
       "<table border=\"1\" class=\"dataframe\">\n",
       "  <thead>\n",
       "    <tr style=\"text-align: right;\">\n",
       "      <th></th>\n",
       "      <th>0</th>\n",
       "      <th>1</th>\n",
       "      <th>2</th>\n",
       "      <th>3</th>\n",
       "    </tr>\n",
       "  </thead>\n",
       "  <tbody>\n",
       "    <tr>\n",
       "      <th>0</th>\n",
       "      <td>4.9</td>\n",
       "      <td>3.1</td>\n",
       "      <td>1.5</td>\n",
       "      <td>0.1</td>\n",
       "    </tr>\n",
       "    <tr>\n",
       "      <th>1</th>\n",
       "      <td>5.4</td>\n",
       "      <td>3.7</td>\n",
       "      <td>1.5</td>\n",
       "      <td>0.2</td>\n",
       "    </tr>\n",
       "    <tr>\n",
       "      <th>2</th>\n",
       "      <td>5.8</td>\n",
       "      <td>4.0</td>\n",
       "      <td>1.2</td>\n",
       "      <td>0.2</td>\n",
       "    </tr>\n",
       "    <tr>\n",
       "      <th>3</th>\n",
       "      <td>5.7</td>\n",
       "      <td>4.4</td>\n",
       "      <td>1.5</td>\n",
       "      <td>0.4</td>\n",
       "    </tr>\n",
       "    <tr>\n",
       "      <th>4</th>\n",
       "      <td>5.4</td>\n",
       "      <td>3.9</td>\n",
       "      <td>1.3</td>\n",
       "      <td>0.4</td>\n",
       "    </tr>\n",
       "    <tr>\n",
       "      <th>5</th>\n",
       "      <td>5.1</td>\n",
       "      <td>3.5</td>\n",
       "      <td>1.4</td>\n",
       "      <td>0.3</td>\n",
       "    </tr>\n",
       "    <tr>\n",
       "      <th>6</th>\n",
       "      <td>5.1</td>\n",
       "      <td>3.7</td>\n",
       "      <td>1.5</td>\n",
       "      <td>0.4</td>\n",
       "    </tr>\n",
       "    <tr>\n",
       "      <th>7</th>\n",
       "      <td>5.0</td>\n",
       "      <td>3.4</td>\n",
       "      <td>1.6</td>\n",
       "      <td>0.4</td>\n",
       "    </tr>\n",
       "    <tr>\n",
       "      <th>8</th>\n",
       "      <td>5.4</td>\n",
       "      <td>3.4</td>\n",
       "      <td>1.5</td>\n",
       "      <td>0.4</td>\n",
       "    </tr>\n",
       "    <tr>\n",
       "      <th>9</th>\n",
       "      <td>4.9</td>\n",
       "      <td>3.1</td>\n",
       "      <td>1.5</td>\n",
       "      <td>0.2</td>\n",
       "    </tr>\n",
       "    <tr>\n",
       "      <th>10</th>\n",
       "      <td>4.9</td>\n",
       "      <td>2.4</td>\n",
       "      <td>3.3</td>\n",
       "      <td>1.0</td>\n",
       "    </tr>\n",
       "    <tr>\n",
       "      <th>11</th>\n",
       "      <td>5.6</td>\n",
       "      <td>2.9</td>\n",
       "      <td>3.6</td>\n",
       "      <td>1.3</td>\n",
       "    </tr>\n",
       "    <tr>\n",
       "      <th>12</th>\n",
       "      <td>5.6</td>\n",
       "      <td>3.0</td>\n",
       "      <td>4.5</td>\n",
       "      <td>1.5</td>\n",
       "    </tr>\n",
       "    <tr>\n",
       "      <th>13</th>\n",
       "      <td>6.2</td>\n",
       "      <td>2.2</td>\n",
       "      <td>4.5</td>\n",
       "      <td>1.5</td>\n",
       "    </tr>\n",
       "    <tr>\n",
       "      <th>14</th>\n",
       "      <td>5.6</td>\n",
       "      <td>2.5</td>\n",
       "      <td>3.9</td>\n",
       "      <td>1.1</td>\n",
       "    </tr>\n",
       "    <tr>\n",
       "      <th>15</th>\n",
       "      <td>6.3</td>\n",
       "      <td>2.5</td>\n",
       "      <td>4.9</td>\n",
       "      <td>1.5</td>\n",
       "    </tr>\n",
       "    <tr>\n",
       "      <th>16</th>\n",
       "      <td>6.6</td>\n",
       "      <td>3.0</td>\n",
       "      <td>4.4</td>\n",
       "      <td>1.4</td>\n",
       "    </tr>\n",
       "    <tr>\n",
       "      <th>17</th>\n",
       "      <td>5.5</td>\n",
       "      <td>2.4</td>\n",
       "      <td>3.7</td>\n",
       "      <td>1.0</td>\n",
       "    </tr>\n",
       "    <tr>\n",
       "      <th>18</th>\n",
       "      <td>5.8</td>\n",
       "      <td>2.7</td>\n",
       "      <td>3.9</td>\n",
       "      <td>1.2</td>\n",
       "    </tr>\n",
       "    <tr>\n",
       "      <th>19</th>\n",
       "      <td>5.7</td>\n",
       "      <td>3.0</td>\n",
       "      <td>4.2</td>\n",
       "      <td>1.2</td>\n",
       "    </tr>\n",
       "    <tr>\n",
       "      <th>20</th>\n",
       "      <td>6.2</td>\n",
       "      <td>2.9</td>\n",
       "      <td>4.3</td>\n",
       "      <td>1.3</td>\n",
       "    </tr>\n",
       "    <tr>\n",
       "      <th>21</th>\n",
       "      <td>6.3</td>\n",
       "      <td>3.3</td>\n",
       "      <td>6.0</td>\n",
       "      <td>2.5</td>\n",
       "    </tr>\n",
       "    <tr>\n",
       "      <th>22</th>\n",
       "      <td>6.5</td>\n",
       "      <td>3.0</td>\n",
       "      <td>5.5</td>\n",
       "      <td>1.8</td>\n",
       "    </tr>\n",
       "    <tr>\n",
       "      <th>23</th>\n",
       "      <td>6.9</td>\n",
       "      <td>3.2</td>\n",
       "      <td>5.7</td>\n",
       "      <td>2.3</td>\n",
       "    </tr>\n",
       "    <tr>\n",
       "      <th>24</th>\n",
       "      <td>6.3</td>\n",
       "      <td>2.7</td>\n",
       "      <td>4.9</td>\n",
       "      <td>1.8</td>\n",
       "    </tr>\n",
       "    <tr>\n",
       "      <th>25</th>\n",
       "      <td>7.2</td>\n",
       "      <td>3.2</td>\n",
       "      <td>6.0</td>\n",
       "      <td>1.8</td>\n",
       "    </tr>\n",
       "    <tr>\n",
       "      <th>26</th>\n",
       "      <td>6.2</td>\n",
       "      <td>2.8</td>\n",
       "      <td>4.8</td>\n",
       "      <td>1.8</td>\n",
       "    </tr>\n",
       "    <tr>\n",
       "      <th>27</th>\n",
       "      <td>6.3</td>\n",
       "      <td>2.8</td>\n",
       "      <td>5.1</td>\n",
       "      <td>1.5</td>\n",
       "    </tr>\n",
       "    <tr>\n",
       "      <th>28</th>\n",
       "      <td>6.0</td>\n",
       "      <td>3.0</td>\n",
       "      <td>4.8</td>\n",
       "      <td>1.8</td>\n",
       "    </tr>\n",
       "    <tr>\n",
       "      <th>29</th>\n",
       "      <td>6.2</td>\n",
       "      <td>3.4</td>\n",
       "      <td>5.4</td>\n",
       "      <td>2.3</td>\n",
       "    </tr>\n",
       "    <tr>\n",
       "      <th>30</th>\n",
       "      <td>6.7</td>\n",
       "      <td>3.0</td>\n",
       "      <td>5.0</td>\n",
       "      <td>1.7</td>\n",
       "    </tr>\n",
       "    <tr>\n",
       "      <th>31</th>\n",
       "      <td>6.1</td>\n",
       "      <td>3.0</td>\n",
       "      <td>4.6</td>\n",
       "      <td>1.4</td>\n",
       "    </tr>\n",
       "    <tr>\n",
       "      <th>32</th>\n",
       "      <td>5.9</td>\n",
       "      <td>3.2</td>\n",
       "      <td>4.8</td>\n",
       "      <td>1.8</td>\n",
       "    </tr>\n",
       "    <tr>\n",
       "      <th>33</th>\n",
       "      <td>6.0</td>\n",
       "      <td>2.2</td>\n",
       "      <td>5.0</td>\n",
       "      <td>1.5</td>\n",
       "    </tr>\n",
       "  </tbody>\n",
       "</table>\n",
       "</div>"
      ],
      "text/plain": [
       "      0    1    2    3\n",
       "0   4.9  3.1  1.5  0.1\n",
       "1   5.4  3.7  1.5  0.2\n",
       "2   5.8  4.0  1.2  0.2\n",
       "3   5.7  4.4  1.5  0.4\n",
       "4   5.4  3.9  1.3  0.4\n",
       "5   5.1  3.5  1.4  0.3\n",
       "6   5.1  3.7  1.5  0.4\n",
       "7   5.0  3.4  1.6  0.4\n",
       "8   5.4  3.4  1.5  0.4\n",
       "9   4.9  3.1  1.5  0.2\n",
       "10  4.9  2.4  3.3  1.0\n",
       "11  5.6  2.9  3.6  1.3\n",
       "12  5.6  3.0  4.5  1.5\n",
       "13  6.2  2.2  4.5  1.5\n",
       "14  5.6  2.5  3.9  1.1\n",
       "15  6.3  2.5  4.9  1.5\n",
       "16  6.6  3.0  4.4  1.4\n",
       "17  5.5  2.4  3.7  1.0\n",
       "18  5.8  2.7  3.9  1.2\n",
       "19  5.7  3.0  4.2  1.2\n",
       "20  6.2  2.9  4.3  1.3\n",
       "21  6.3  3.3  6.0  2.5\n",
       "22  6.5  3.0  5.5  1.8\n",
       "23  6.9  3.2  5.7  2.3\n",
       "24  6.3  2.7  4.9  1.8\n",
       "25  7.2  3.2  6.0  1.8\n",
       "26  6.2  2.8  4.8  1.8\n",
       "27  6.3  2.8  5.1  1.5\n",
       "28  6.0  3.0  4.8  1.8\n",
       "29  6.2  3.4  5.4  2.3\n",
       "30  6.7  3.0  5.0  1.7\n",
       "31  6.1  3.0  4.6  1.4\n",
       "32  5.9  3.2  4.8  1.8\n",
       "33  6.0  2.2  5.0  1.5"
      ]
     },
     "execution_count": 86,
     "metadata": {},
     "output_type": "execute_result"
    }
   ],
   "source": [
    "clf.X"
   ]
  },
  {
   "cell_type": "code",
   "execution_count": null,
   "metadata": {},
   "outputs": [],
   "source": []
  }
 ],
 "metadata": {
  "kernelspec": {
   "display_name": "Python 3",
   "language": "python",
   "name": "python3"
  },
  "language_info": {
   "codemirror_mode": {
    "name": "ipython",
    "version": 3
   },
   "file_extension": ".py",
   "mimetype": "text/x-python",
   "name": "python",
   "nbconvert_exporter": "python",
   "pygments_lexer": "ipython3",
   "version": "3.7.2"
  }
 },
 "nbformat": 4,
 "nbformat_minor": 2
}
