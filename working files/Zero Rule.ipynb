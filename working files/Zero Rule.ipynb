{
 "cells": [
  {
   "cell_type": "code",
   "execution_count": 31,
   "metadata": {},
   "outputs": [],
   "source": [
    "from sklearn import datasets\n",
    "import numpy as np\n",
    "import pandas as pd\n",
    "import matplotlib.pyplot as plt\n",
    "import seaborn as sns\n",
    "import random\n",
    "%matplotlib inline"
   ]
  },
  {
   "cell_type": "code",
   "execution_count": 32,
   "metadata": {},
   "outputs": [],
   "source": [
    "def split_data(train_data,train_y,split_ratio):\n",
    "    \n",
    "    train_data['target'] = train_y\n",
    "    if isinstance(split_ratio,int):\n",
    "        test_size = split_ratio\n",
    "    else:\n",
    "        test_size = round(split_ratio * len(train_data))\n",
    "    \n",
    "    \n",
    "    incides = train_data.index.tolist()\n",
    "    test_indices = random.sample(population=incides,k=test_size)\n",
    "    \n",
    "    test = train_data.loc[test_indices]\n",
    "    train = train_data.drop(test_indices)\n",
    "    \n",
    "    train_y = train['target']\n",
    "    train_X = train.drop(['target'],axis=1)\n",
    "    \n",
    "    test_y = test['target']\n",
    "    test_X = test.drop(['target'],axis=1)\n",
    "    \n",
    "    return train_X,train_y,test_X,test_y"
   ]
  },
  {
   "cell_type": "code",
   "execution_count": 33,
   "metadata": {},
   "outputs": [],
   "source": [
    "def accuracy(prediction,actual):\n",
    "    Accuracy= (prediction==actual)\n",
    "    Accuracy = Accuracy.mean()\n",
    "    \n",
    "    return Accuracy"
   ]
  },
  {
   "cell_type": "code",
   "execution_count": 34,
   "metadata": {},
   "outputs": [],
   "source": [
    "def RMSE(prediction,actual):\n",
    "    \n",
    "    actual = actual.values\n",
    "    total_error = 0\n",
    "    \n",
    "    for i in range(len(prediction)):\n",
    "        error = (prediction[i] - actual[i])**2\n",
    "        total_error += error\n",
    "    \n",
    "    mean_error = total_error/len(prediction)\n",
    "    rmse = mean_error ** (1/2)\n",
    "    \n",
    "    return rmse"
   ]
  },
  {
   "cell_type": "code",
   "execution_count": 35,
   "metadata": {},
   "outputs": [],
   "source": [
    "def fit(train_data,train_y):\n",
    "    \n",
    "    unique_classes,unique_count = np.unique(train_y,return_counts=True)\n",
    "    class_index = unique_count.argmax()\n",
    "    self.classification = unique_classes[class_index]\n",
    "\n",
    "def predict(test_data):\n",
    "    output = []\n",
    "    for i in range(len(test_data)):\n",
    "        output.append(self.classification)\n",
    "    \n",
    "    return output"
   ]
  },
  {
   "cell_type": "code",
   "execution_count": 36,
   "metadata": {},
   "outputs": [],
   "source": [
    "class ZeroClassifier:\n",
    "    def __init__(self):\n",
    "        pass\n",
    "    \n",
    "    def fit(self,train_data,train_y):\n",
    "\n",
    "        unique_classes,unique_count = np.unique(train_y,return_counts=True)\n",
    "        class_index = unique_count.argmax()\n",
    "        self.classification = unique_classes[class_index]\n",
    "\n",
    "    def predict(self,test_data):\n",
    "        output = []\n",
    "        for i in range(len(test_data)):\n",
    "            output.append(self.classification)\n",
    "\n",
    "        return output"
   ]
  },
  {
   "cell_type": "code",
   "execution_count": 37,
   "metadata": {},
   "outputs": [
    {
     "name": "stdout",
     "output_type": "stream",
     "text": [
      "0.26\n"
     ]
    }
   ],
   "source": [
    "iris = datasets.load_iris()\n",
    "train = pd.DataFrame(iris['data'])\n",
    "train_y = iris['target']\n",
    "train_X,train_y,test_X,test_y = split_data(train,train_y,split_ratio=50)\n",
    "\n",
    "model = ZeroClassifier()\n",
    "model.fit(train_X,train_y)\n",
    "prediction = model.predict(test_X)\n",
    "\n",
    "print(accuracy(prediction,test_y))"
   ]
  },
  {
   "cell_type": "code",
   "execution_count": 38,
   "metadata": {},
   "outputs": [],
   "source": [
    "def fit(x,y):\n",
    "    \n",
    "    self.output = y.mean()\n",
    "\n",
    "def predict(test_X):\n",
    "    prediction = []\n",
    "    for i in range(len(test_X)):\n",
    "        prediction.append(self.output)\n",
    "    \n",
    "    return prediction\n"
   ]
  },
  {
   "cell_type": "code",
   "execution_count": 41,
   "metadata": {},
   "outputs": [],
   "source": [
    "class ZeroRegressor:\n",
    "    def __init__(self):\n",
    "        pass\n",
    "    \n",
    "    def fit(self,x,y):\n",
    "\n",
    "        self.output = y.mean()\n",
    "\n",
    "    def predict(self,test_X):\n",
    "        prediction = []\n",
    "        for i in range(len(test_X)):\n",
    "            prediction.append(self.output)\n",
    "\n",
    "        return prediction"
   ]
  },
  {
   "cell_type": "code",
   "execution_count": 51,
   "metadata": {},
   "outputs": [
    {
     "name": "stdout",
     "output_type": "stream",
     "text": [
      "9.062323408690697\n"
     ]
    }
   ],
   "source": [
    "boston = datasets.load_boston()\n",
    "train = pd.DataFrame(boston['data'])\n",
    "target = boston['target']\n",
    "train_X,train_y,test_X,test_y = split_data(train,target,split_ratio=0.3)\n",
    "model = ZeroRegressor()\n",
    "model.fit(train_X,train_y)\n",
    "prediction = model.predict(test_X)\n",
    "error = RMSE(prediction,test_y)\n",
    "print(error)\n"
   ]
  },
  {
   "cell_type": "code",
   "execution_count": null,
   "metadata": {},
   "outputs": [],
   "source": []
  }
 ],
 "metadata": {
  "kernelspec": {
   "display_name": "Python 3",
   "language": "python",
   "name": "python3"
  },
  "language_info": {
   "codemirror_mode": {
    "name": "ipython",
    "version": 3
   },
   "file_extension": ".py",
   "mimetype": "text/x-python",
   "name": "python",
   "nbconvert_exporter": "python",
   "pygments_lexer": "ipython3",
   "version": "3.7.2"
  }
 },
 "nbformat": 4,
 "nbformat_minor": 2
}
