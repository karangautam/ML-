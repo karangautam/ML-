{
 "cells": [
  {
   "cell_type": "code",
   "execution_count": 21,
   "metadata": {},
   "outputs": [],
   "source": [
    "from sklearn import datasets\n",
    "import numpy as np\n",
    "import pandas as pd\n",
    "import matplotlib.pyplot as plt\n",
    "import seaborn as sns\n",
    "import random\n",
    "import math\n",
    "import time\n",
    "from collections import Counter \n",
    "%matplotlib inline"
   ]
  },
  {
   "cell_type": "code",
   "execution_count": 22,
   "metadata": {},
   "outputs": [],
   "source": [
    "def split_data(train_data,train_y,split_ratio):\n",
    "    \n",
    "    train_data['target'] = train_y\n",
    "    if isinstance(split_ratio,int):\n",
    "        test_size = split_ratio\n",
    "    else:\n",
    "        test_size = round(split_ratio * len(train_data))\n",
    "    \n",
    "    \n",
    "    incides = train_data.index.tolist()\n",
    "    test_indices = random.sample(population=incides,k=test_size)\n",
    "    \n",
    "    test = train_data.loc[test_indices]\n",
    "    train = train_data.drop(test_indices)\n",
    "    \n",
    "    train_y = train['target'].reset_index(drop=True)\n",
    "    train_X = train.drop(['target'],axis=1).reset_index(drop=True)\n",
    "    \n",
    "    test_y = test['target'].reset_index(drop=True)\n",
    "    test_X = test.drop(['target'],axis=1).reset_index(drop=True)\n",
    "    \n",
    "    return train_X,train_y,test_X,test_y"
   ]
  },
  {
   "cell_type": "code",
   "execution_count": 23,
   "metadata": {},
   "outputs": [],
   "source": [
    "def accuracy(prediction,actual):\n",
    "    Accuracy= (prediction==actual)\n",
    "    Accuracy = Accuracy.mean()\n",
    "    \n",
    "    return Accuracy"
   ]
  },
  {
   "cell_type": "code",
   "execution_count": 24,
   "metadata": {},
   "outputs": [],
   "source": [
    "def RMSE(prediction,actual):\n",
    "    \n",
    "    actual = actual.values\n",
    "    total_error = 0\n",
    "    \n",
    "    for i in range(len(prediction)):\n",
    "        error = (prediction[i] - actual[i])**2\n",
    "        total_error += error\n",
    "    \n",
    "    mean_error = total_error/len(prediction)\n",
    "    rmse = mean_error ** (1/2)\n",
    "    \n",
    "    return rmse"
   ]
  },
  {
   "cell_type": "code",
   "execution_count": 25,
   "metadata": {},
   "outputs": [],
   "source": [
    "iris = datasets.load_iris()\n",
    "train = pd.DataFrame(iris['data'])\n",
    "train_y = iris['target']\n",
    "train_X,train_y,test_X,test_y = split_data(train,train_y,split_ratio=50)"
   ]
  },
  {
   "cell_type": "code",
   "execution_count": 26,
   "metadata": {},
   "outputs": [],
   "source": [
    "output = []\n",
    "k = 3\n",
    "for i in range(len(test_X)):\n",
    "    distance_tuple = []\n",
    "    for ii in range(len(train_X)):\n",
    "        distance_tuple.append((math.sqrt(sum([(a - b) ** 2 for a, b in zip(train_X.loc[ii], test_X.loc[i])])),train_y[ii]))\n",
    "    distance_tuple.sort()\n",
    "    neighbors = distance_tuple[0:k]\n",
    "    neighbors_class = [i[1] for i in neighbors]\n",
    "    data = Counter(neighbors_class) \n",
    "    get_mode = dict(data) \n",
    "    mode = [k for k, v in get_mode.items() if v == max(list(data.values()))] \n",
    "    output.append(mode[0])\n",
    "\n",
    "        "
   ]
  },
  {
   "cell_type": "code",
   "execution_count": 27,
   "metadata": {},
   "outputs": [
    {
     "name": "stdout",
     "output_type": "stream",
     "text": [
      "0.96\n"
     ]
    }
   ],
   "source": [
    "print(accuracy(output,test_y))"
   ]
  },
  {
   "cell_type": "code",
   "execution_count": 37,
   "metadata": {},
   "outputs": [],
   "source": [
    "class knnClassifier:\n",
    "    def __init__(self):\n",
    "        pass\n",
    "    \n",
    "    def fit(self,train_X,train_y,k=5):\n",
    "        self.X = train_X\n",
    "        self.Y = train_y\n",
    "        self.k = k\n",
    "        \n",
    "    def predict(self,test_X):\n",
    "        output = []\n",
    "        for i in range(len(test_X)):\n",
    "            distance_tuple = []\n",
    "            for ii in range(len(self.X)):\n",
    "                distance_tuple.append((math.sqrt(sum([(a-b)**2 for a,b in zip(test_X.loc[i],self.X.loc[ii])])),self.Y[ii]))\n",
    "            distance_tuple.sort()\n",
    "            neighbors = distance_tuple[0:k]\n",
    "            neighbors_class = [i[1] for i in neighbors]\n",
    "            data = Counter(neighbors_class) \n",
    "            get_mode = dict(data) \n",
    "            mode = [k for k, v in get_mode.items() if v == max(list(data.values()))] \n",
    "            output.append(mode[0])\n",
    "        \n",
    "        return output\n",
    "\n",
    "        "
   ]
  },
  {
   "cell_type": "code",
   "execution_count": 38,
   "metadata": {},
   "outputs": [],
   "source": [
    "iris = datasets.load_iris()\n",
    "train = pd.DataFrame(iris['data'])\n",
    "train_y = iris['target']\n",
    "train_X,train_y,test_X,test_y = split_data(train,train_y,split_ratio=50)"
   ]
  },
  {
   "cell_type": "code",
   "execution_count": 39,
   "metadata": {},
   "outputs": [
    {
     "name": "stdout",
     "output_type": "stream",
     "text": [
      "Processing time : 0.0\n"
     ]
    }
   ],
   "source": [
    "\n",
    "clf = knnClassifier()\n",
    "start = time.time()\n",
    "clf.fit(train_X,train_y,3)\n",
    "end = time.time()\n",
    "print('Processing time : {}'.format(end-start))"
   ]
  },
  {
   "cell_type": "code",
   "execution_count": 40,
   "metadata": {},
   "outputs": [
    {
     "name": "stdout",
     "output_type": "stream",
     "text": [
      "Processing time : 2.466682195663452\n"
     ]
    }
   ],
   "source": [
    "start = time.time()\n",
    "prediction = clf.predict(test_X)\n",
    "end = time.time()\n",
    "print('Processing time : {}'.format(end-start))"
   ]
  },
  {
   "cell_type": "code",
   "execution_count": 41,
   "metadata": {},
   "outputs": [
    {
     "name": "stdout",
     "output_type": "stream",
     "text": [
      "0.98\n"
     ]
    }
   ],
   "source": [
    "print(accuracy(prediction,test_y))"
   ]
  },
  {
   "cell_type": "code",
   "execution_count": null,
   "metadata": {},
   "outputs": [],
   "source": []
  },
  {
   "cell_type": "code",
   "execution_count": 11,
   "metadata": {},
   "outputs": [],
   "source": [
    "boston = datasets.load_boston()\n",
    "train = pd.DataFrame(boston['data'])\n",
    "target = boston['target']\n",
    "train_X,train_y,test_X,test_y = split_data(train,target,split_ratio=0.3)"
   ]
  },
  {
   "cell_type": "code",
   "execution_count": 12,
   "metadata": {},
   "outputs": [],
   "source": [
    "output = []\n",
    "k = 5\n",
    "for i in range(len(test_X)):\n",
    "    distance_tuple = []\n",
    "    for ii in range(len(train_X)):\n",
    "        distance_tuple.append((math.sqrt(sum([(a - b) ** 2 for a, b in zip(train_X.loc[ii], test_X.loc[i])])),train_y[ii]))\n",
    "    distance_tuple.sort()\n",
    "    neighbors = distance_tuple[0:k]\n",
    "    weighted_total_neighbors = sum([i[1]/i[0] for i in neighbors])\n",
    "    \n",
    "    total_distance = sum([1/i[0] for i in neighbors])\n",
    "    \n",
    "    neighbors_weighted_average = weighted_total_neighbors/total_distance\n",
    "    \n",
    "    output.append(neighbors_weighted_average)\n"
   ]
  },
  {
   "cell_type": "code",
   "execution_count": 13,
   "metadata": {},
   "outputs": [
    {
     "data": {
      "text/plain": [
       "[21.122726816780858,\n",
       " 22.41064544441093,\n",
       " 27.407120880329717,\n",
       " 18.8071018994773,\n",
       " 20.371410879247158,\n",
       " 25.544028527962265,\n",
       " 25.888656061405033,\n",
       " 26.36434888100778,\n",
       " 29.964749954874595,\n",
       " 20.677821545690787,\n",
       " 24.508748466318657,\n",
       " 26.084515341738218,\n",
       " 31.70541386226417,\n",
       " 21.941002247142947,\n",
       " 18.42858576182911,\n",
       " 36.61985602309986,\n",
       " 18.171341016196997,\n",
       " 22.131863828583462,\n",
       " 21.085130101817562,\n",
       " 22.131694319671315,\n",
       " 40.69134665721515,\n",
       " 26.14942573177664,\n",
       " 34.66064376573952,\n",
       " 17.57129384603103,\n",
       " 29.033447499788064,\n",
       " 35.03388126867651,\n",
       " 32.456428678015385,\n",
       " 23.303691038239325,\n",
       " 17.589040058456824,\n",
       " 24.273465480030612,\n",
       " 24.816103685036435,\n",
       " 45.18308795723738,\n",
       " 13.124209549262659,\n",
       " 16.695543413848167,\n",
       " 21.923373486767268,\n",
       " 20.8790996835786,\n",
       " 18.338285026953034,\n",
       " 20.244759168749216,\n",
       " 27.420269311992882,\n",
       " 18.538273570906785,\n",
       " 15.733223945891972,\n",
       " 13.769958104942152,\n",
       " 22.317012452068372,\n",
       " 21.32053367420041,\n",
       " 14.487057674932705,\n",
       " 27.49271248598428,\n",
       " 12.729211272866312,\n",
       " 21.890148824964534,\n",
       " 29.47532702188298,\n",
       " 15.705020294172842,\n",
       " 32.66864021575466,\n",
       " 18.104052952762295,\n",
       " 25.30415922486218,\n",
       " 32.52355113397673,\n",
       " 13.433154270484563,\n",
       " 10.703991548852649,\n",
       " 19.678296465379045,\n",
       " 25.84473680962821,\n",
       " 23.18881258996344,\n",
       " 9.415485498125046,\n",
       " 23.016926819764553,\n",
       " 21.353161599463434,\n",
       " 34.94682185300911,\n",
       " 25.99753206424344,\n",
       " 17.04019944394018,\n",
       " 24.287827883652284,\n",
       " 22.32934840344129,\n",
       " 25.97611611697919,\n",
       " 24.612661049548528,\n",
       " 19.31181896790554,\n",
       " 18.581901897724755,\n",
       " 27.360841413742353,\n",
       " 23.70578754348394,\n",
       " 15.976603531408163,\n",
       " 11.58510743953869,\n",
       " 26.448631321396892,\n",
       " 24.580333185663967,\n",
       " 17.2010246949778,\n",
       " 27.88071693314284,\n",
       " 36.12025908106918,\n",
       " 19.94967016878561,\n",
       " 32.323160617341614,\n",
       " 15.50193830862752,\n",
       " 29.944358274862527,\n",
       " 15.51603064201739,\n",
       " 13.413005643078083,\n",
       " 28.981000381525565,\n",
       " 29.213407681244057,\n",
       " 20.651614488933518,\n",
       " 18.961864928060965,\n",
       " 23.133763302661183,\n",
       " 32.10831261203176,\n",
       " 30.98761869059264,\n",
       " 32.18341330588488,\n",
       " 24.103792052109608,\n",
       " 10.666188558053404,\n",
       " 21.829554995873885,\n",
       " 21.74049674292784,\n",
       " 42.33126301198834,\n",
       " 13.15635882280198,\n",
       " 25.9428052258097,\n",
       " 29.686844389086716,\n",
       " 22.16934614568425,\n",
       " 23.027841429701876,\n",
       " 31.658902470432693,\n",
       " 13.095591522449935,\n",
       " 17.1953492255151,\n",
       " 25.051176071885685,\n",
       " 16.93335777625842,\n",
       " 20.222962621534165,\n",
       " 15.992403242337957,\n",
       " 25.82635073510352,\n",
       " 23.626510093470895,\n",
       " 21.674132147273735,\n",
       " 15.121139032226948,\n",
       " 25.70013948150595,\n",
       " 30.72873929307545,\n",
       " 12.308226587789994,\n",
       " 15.542585294409934,\n",
       " 24.320986318541028,\n",
       " 22.830291119014273,\n",
       " 33.54375570573644,\n",
       " 15.698812603088571,\n",
       " 20.548225536009625,\n",
       " 19.6528084648299,\n",
       " 13.415319876919671,\n",
       " 22.9840382188287,\n",
       " 14.71441360186213,\n",
       " 21.042697561951783,\n",
       " 20.379936204227583,\n",
       " 16.9169498785462,\n",
       " 19.4359473290843,\n",
       " 13.776696715316731,\n",
       " 33.268923224741165,\n",
       " 25.18020173062754,\n",
       " 21.34228305732298,\n",
       " 21.54427640598552,\n",
       " 21.437716774133065,\n",
       " 15.760761035976234,\n",
       " 21.33844944454181,\n",
       " 25.794924105066244,\n",
       " 31.252331260016685,\n",
       " 36.27126563409267,\n",
       " 37.442455048193075,\n",
       " 32.64662767039408,\n",
       " 14.356104177402873,\n",
       " 20.59175110485539,\n",
       " 20.65892826699805,\n",
       " 13.1131277243106,\n",
       " 31.976125490390707,\n",
       " 15.855010517513719,\n",
       " 23.036895738476176]"
      ]
     },
     "execution_count": 13,
     "metadata": {},
     "output_type": "execute_result"
    }
   ],
   "source": [
    "output"
   ]
  },
  {
   "cell_type": "code",
   "execution_count": null,
   "metadata": {},
   "outputs": [],
   "source": []
  },
  {
   "cell_type": "code",
   "execution_count": 14,
   "metadata": {},
   "outputs": [],
   "source": [
    "class knnRegressor:\n",
    "    def __init__(self):\n",
    "        pass\n",
    "    \n",
    "    def fit(self,train_X,train_y,k=5):\n",
    "        self.X = train_X\n",
    "        self.Y = train_y\n",
    "        self.k = k\n",
    "        \n",
    "    def predict(self,test_X):\n",
    "        output = []\n",
    "        for i in range(len(test_X)):\n",
    "            distance_tuple = []\n",
    "            for ii in range(len(self.X)):\n",
    "                distance_tuple.append((math.sqrt(sum([(a-b)**2 for a,b in zip(test_X.loc[i],self.X.loc[ii])])),self.Y[ii]))\n",
    "            distance_tuple.sort()\n",
    "            neighbors = distance_tuple[0:k]\n",
    "            weighted_total_neighbors = sum([i[1]/i[0] for i in neighbors])\n",
    "            total_distance = sum([1/i[0] for i in neighbors])\n",
    "            neighbors_weighted_average = weighted_total_neighbors/total_distance\n",
    "            output.append(neighbors_weighted_average)\n",
    "        \n",
    "        return output\n"
   ]
  },
  {
   "cell_type": "code",
   "execution_count": 18,
   "metadata": {},
   "outputs": [],
   "source": [
    "boston = datasets.load_boston()\n",
    "train = pd.DataFrame(boston['data'])\n",
    "target = boston['target']\n",
    "train_X,train_y,test_X,test_y = split_data(train,target,split_ratio=0.3)"
   ]
  },
  {
   "cell_type": "code",
   "execution_count": 19,
   "metadata": {},
   "outputs": [],
   "source": [
    "clf = knnRegressor()\n",
    "clf.fit(train_X,train_y,3)\n",
    "prediction = clf.predict(test_X)"
   ]
  },
  {
   "cell_type": "code",
   "execution_count": 20,
   "metadata": {},
   "outputs": [
    {
     "name": "stdout",
     "output_type": "stream",
     "text": [
      "6.701344999633546\n"
     ]
    }
   ],
   "source": [
    "print(RMSE(prediction,test_y))"
   ]
  },
  {
   "cell_type": "code",
   "execution_count": null,
   "metadata": {},
   "outputs": [],
   "source": []
  }
 ],
 "metadata": {
  "kernelspec": {
   "display_name": "Python 3",
   "language": "python",
   "name": "python3"
  },
  "language_info": {
   "codemirror_mode": {
    "name": "ipython",
    "version": 3
   },
   "file_extension": ".py",
   "mimetype": "text/x-python",
   "name": "python",
   "nbconvert_exporter": "python",
   "pygments_lexer": "ipython3",
   "version": "3.7.2"
  }
 },
 "nbformat": 4,
 "nbformat_minor": 2
}
