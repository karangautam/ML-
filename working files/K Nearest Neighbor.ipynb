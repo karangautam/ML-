{
 "cells": [
  {
   "cell_type": "code",
   "execution_count": 69,
   "metadata": {},
   "outputs": [],
   "source": [
    "from sklearn import datasets\n",
    "import numpy as np\n",
    "import pandas as pd\n",
    "import matplotlib.pyplot as plt\n",
    "import seaborn as sns\n",
    "import random\n",
    "import math\n",
    "from collections import Counter \n",
    "%matplotlib inline"
   ]
  },
  {
   "cell_type": "code",
   "execution_count": 10,
   "metadata": {},
   "outputs": [],
   "source": [
    "def split_data(train_data,train_y,split_ratio):\n",
    "    \n",
    "    train_data['target'] = train_y\n",
    "    if isinstance(split_ratio,int):\n",
    "        test_size = split_ratio\n",
    "    else:\n",
    "        test_size = round(split_ratio * len(train_data))\n",
    "    \n",
    "    \n",
    "    incides = train_data.index.tolist()\n",
    "    test_indices = random.sample(population=incides,k=test_size)\n",
    "    \n",
    "    test = train_data.loc[test_indices]\n",
    "    train = train_data.drop(test_indices)\n",
    "    \n",
    "    train_y = train['target'].reset_index(drop=True)\n",
    "    train_X = train.drop(['target'],axis=1).reset_index(drop=True)\n",
    "    \n",
    "    test_y = test['target'].reset_index(drop=True)\n",
    "    test_X = test.drop(['target'],axis=1).reset_index(drop=True)\n",
    "    \n",
    "    return train_X,train_y,test_X,test_y"
   ]
  },
  {
   "cell_type": "code",
   "execution_count": 11,
   "metadata": {},
   "outputs": [],
   "source": [
    "def accuracy(prediction,actual):\n",
    "    Accuracy= (prediction==actual)\n",
    "    Accuracy = Accuracy.mean()\n",
    "    \n",
    "    return Accuracy"
   ]
  },
  {
   "cell_type": "code",
   "execution_count": 12,
   "metadata": {},
   "outputs": [],
   "source": [
    "def RMSE(prediction,actual):\n",
    "    \n",
    "    actual = actual.values\n",
    "    total_error = 0\n",
    "    \n",
    "    for i in range(len(prediction)):\n",
    "        error = (prediction[i] - actual[i])**2\n",
    "        total_error += error\n",
    "    \n",
    "    mean_error = total_error/len(prediction)\n",
    "    rmse = mean_error ** (1/2)\n",
    "    \n",
    "    return rmse"
   ]
  },
  {
   "cell_type": "code",
   "execution_count": 13,
   "metadata": {},
   "outputs": [],
   "source": [
    "iris = datasets.load_iris()\n",
    "train = pd.DataFrame(iris['data'])\n",
    "train_y = iris['target']\n",
    "train_X,train_y,test_X,test_y = split_data(train,train_y,split_ratio=50)"
   ]
  },
  {
   "cell_type": "code",
   "execution_count": 83,
   "metadata": {},
   "outputs": [],
   "source": [
    "output = []\n",
    "k = 2\n",
    "for i in range(len(test_X)):\n",
    "    distance_tuple = []\n",
    "    for ii in range(len(train_X)):\n",
    "        distance_tuple.append((math.sqrt(sum([(a - b) ** 2 for a, b in zip(train_X.loc[ii], test_X.loc[i])])),train_y[ii]))\n",
    "    distance_tuple.sort()\n",
    "    neighbors = distance_tuple[0:k]\n",
    "    neighbors_class = [i[1] for i in neighbors]\n",
    "    data = Counter(neighbors_class) \n",
    "    get_mode = dict(data) \n",
    "    mode = [k for k, v in get_mode.items() if v == max(list(data.values()))] \n",
    "    output.append(mode[0])\n",
    "\n",
    "        "
   ]
  },
  {
   "cell_type": "code",
   "execution_count": 85,
   "metadata": {},
   "outputs": [],
   "source": [
    "class knnClassifier:\n",
    "    def __init__(self):\n",
    "        pass\n",
    "    \n",
    "    def fit(self,train_X,train_y,k=5):\n",
    "        self.X = train_X\n",
    "        self.Y = train_y\n",
    "        self.k = k\n",
    "        \n",
    "    def predict(self,test_X):\n",
    "        output = []\n",
    "        for i in range(len(test_X)):\n",
    "            distance_tuple = []\n",
    "            for ii in range(len(self.X)):\n",
    "                distance_tuple.append((math.sqrt(sum([(a-b)**2 for a,b in zip(test_X.loc[i],self.X.loc[ii])])),self.Y[ii]))\n",
    "            distance_tuple.sort()\n",
    "            neighbors = distance_tuple[0:k]\n",
    "            neighbors_class = [i[1] for i in neighbors]\n",
    "            data = Counter(neighbors_class) \n",
    "            get_mode = dict(data) \n",
    "            mode = [k for k, v in get_mode.items() if v == max(list(data.values()))] \n",
    "            output.append(mode[0])\n",
    "        \n",
    "        return output\n",
    "\n",
    "        "
   ]
  },
  {
   "cell_type": "code",
   "execution_count": 86,
   "metadata": {},
   "outputs": [],
   "source": [
    "clf = knnClassifier()\n",
    "clf.fit(train_X,train_y,5)\n",
    "prediction = clf.predict(test_X)"
   ]
  },
  {
   "cell_type": "code",
   "execution_count": 88,
   "metadata": {},
   "outputs": [
    {
     "name": "stdout",
     "output_type": "stream",
     "text": [
      "0.96\n"
     ]
    }
   ],
   "source": [
    "print(accuracy(prediction,test_y))"
   ]
  },
  {
   "cell_type": "code",
   "execution_count": 92,
   "metadata": {},
   "outputs": [],
   "source": [
    "boston = datasets.load_boston()\n",
    "train = pd.DataFrame(boston['data'])\n",
    "target = boston['target']\n",
    "train_X,train_y,test_X,test_y = split_data(train,target,split_ratio=0.3)"
   ]
  },
  {
   "cell_type": "code",
   "execution_count": 95,
   "metadata": {},
   "outputs": [],
   "source": [
    "output = []\n",
    "k = 5\n",
    "for i in range(len(test_X)):\n",
    "    distance_tuple = []\n",
    "    for ii in range(len(train_X)):\n",
    "        distance_tuple.append((math.sqrt(sum([(a - b) ** 2 for a, b in zip(train_X.loc[ii], test_X.loc[i])])),train_y[ii]))\n",
    "    distance_tuple.sort()\n",
    "    neighbors = distance_tuple[0:k]\n",
    "    weighted_total_neighbors = sum([i[1]/i[0] for i in neighbors])\n",
    "    \n",
    "    total_distance = sum([1/i[0] for i in neighbors])\n",
    "    \n",
    "    neighbors_weighted_average = weighted_total_neighbors/total_distance\n",
    "    \n",
    "    output.append(neighbors_weighted_average)\n"
   ]
  },
  {
   "cell_type": "code",
   "execution_count": 96,
   "metadata": {},
   "outputs": [
    {
     "data": {
      "text/plain": [
       "[16.223617731013377,\n",
       " 24.327692205446287,\n",
       " 20.162632765561806,\n",
       " 21.761256742777324,\n",
       " 30.20990000430482,\n",
       " 20.640912840918798,\n",
       " 26.23775771226239,\n",
       " 31.611313534350387,\n",
       " 21.222730996287382,\n",
       " 16.455746048696604,\n",
       " 22.80879828931695,\n",
       " 22.815783975757544,\n",
       " 22.170495983155643,\n",
       " 22.434934480000265,\n",
       " 21.68726059842173,\n",
       " 15.591695459076977,\n",
       " 18.05040523498282,\n",
       " 37.87379100775568,\n",
       " 18.325160912177182,\n",
       " 24.308914469697303,\n",
       " 20.98049969526455,\n",
       " 27.216502614568007,\n",
       " 22.096801454478538,\n",
       " 11.197232688041314,\n",
       " 28.613714379906835,\n",
       " 33.75005532116085,\n",
       " 27.877280028398307,\n",
       " 23.26146993727667,\n",
       " 13.216124063979553,\n",
       " 37.4280330637936,\n",
       " 9.857733350074872,\n",
       " 25.92054322301247,\n",
       " 26.73908115644056,\n",
       " 34.417032733994546,\n",
       " 11.866013244748478,\n",
       " 20.859708190341372,\n",
       " 20.487664746003528,\n",
       " 16.69623056955291,\n",
       " 35.797715957047885,\n",
       " 11.640930692559412,\n",
       " 17.211379584016345,\n",
       " 21.480554202300354,\n",
       " 15.607680000209418,\n",
       " 14.343569257090797,\n",
       " 21.58363870733905,\n",
       " 36.50963700837855,\n",
       " 30.23029228561611,\n",
       " 21.979423146269653,\n",
       " 10.667001492363902,\n",
       " 18.68311875887358,\n",
       " 20.69928901327729,\n",
       " 11.179349264173357,\n",
       " 18.812108411648964,\n",
       " 20.200906609970737,\n",
       " 22.978938260687794,\n",
       " 23.308412292528107,\n",
       " 33.40925312585982,\n",
       " 22.773252953791772,\n",
       " 15.121788046329263,\n",
       " 23.149009502079902,\n",
       " 23.287063332221535,\n",
       " 36.07161138876865,\n",
       " 23.40143483189054,\n",
       " 36.66428513281682,\n",
       " 21.33844944454181,\n",
       " 16.24739638081259,\n",
       " 14.94597078768748,\n",
       " 20.95977601212737,\n",
       " 25.66677877648861,\n",
       " 19.74722047310193,\n",
       " 31.708668364855388,\n",
       " 20.199001261780218,\n",
       " 20.50698103312369,\n",
       " 32.02012066606116,\n",
       " 24.907603515866295,\n",
       " 13.401851317783981,\n",
       " 21.872687205391724,\n",
       " 20.964697525555255,\n",
       " 14.071875794509154,\n",
       " 21.894866856635446,\n",
       " 13.776696715316731,\n",
       " 13.485988847196191,\n",
       " 15.732889779023488,\n",
       " 22.146000950497967,\n",
       " 37.86624578364273,\n",
       " 36.45050495439015,\n",
       " 23.614303636863383,\n",
       " 23.215264717349406,\n",
       " 31.705103721300443,\n",
       " 21.587728937209377,\n",
       " 20.507830561196577,\n",
       " 26.041506358210412,\n",
       " 27.333623198226785,\n",
       " 22.48340938933999,\n",
       " 23.602104072647943,\n",
       " 31.861202583688094,\n",
       " 19.524008382609942,\n",
       " 30.64867625536954,\n",
       " 15.806345187325674,\n",
       " 20.548225536009625,\n",
       " 29.723472059741606,\n",
       " 37.97210781245931,\n",
       " 12.064272098900299,\n",
       " 15.51133637312968,\n",
       " 21.913347611556837,\n",
       " 19.890223085954567,\n",
       " 15.901420751356342,\n",
       " 28.85167987448622,\n",
       " 21.746262494807105,\n",
       " 29.3711241027451,\n",
       " 25.105380493862704,\n",
       " 23.360711750070298,\n",
       " 29.25650874049258,\n",
       " 13.878032321655411,\n",
       " 17.97890616764852,\n",
       " 30.925165802307,\n",
       " 20.76502101295508,\n",
       " 20.184446619849286,\n",
       " 23.24555782935366,\n",
       " 30.38226965733516,\n",
       " 12.162451481193873,\n",
       " 28.172888443624586,\n",
       " 39.11201590939813,\n",
       " 24.115775780861576,\n",
       " 28.981000381525565,\n",
       " 25.918344601371608,\n",
       " 12.700759776076463,\n",
       " 38.85523174551282,\n",
       " 35.456156027050184,\n",
       " 32.447250112837686,\n",
       " 22.786284917752717,\n",
       " 21.255225816152485,\n",
       " 24.235648026872877,\n",
       " 20.356800642560707,\n",
       " 24.529679575713594,\n",
       " 11.754176786510945,\n",
       " 28.75778525574763,\n",
       " 27.706254504612094,\n",
       " 15.803570564683973,\n",
       " 19.134722291792762,\n",
       " 21.147246043883236,\n",
       " 26.3249156608423,\n",
       " 28.33634633832967,\n",
       " 15.172309244120973,\n",
       " 25.35600420695852,\n",
       " 17.57129384603103,\n",
       " 12.345894302830969,\n",
       " 29.44422009698854,\n",
       " 15.771351929028603,\n",
       " 30.46023231070063,\n",
       " 24.140936776963585,\n",
       " 24.329318042089085]"
      ]
     },
     "execution_count": 96,
     "metadata": {},
     "output_type": "execute_result"
    }
   ],
   "source": [
    "output"
   ]
  },
  {
   "cell_type": "code",
   "execution_count": null,
   "metadata": {},
   "outputs": [],
   "source": []
  },
  {
   "cell_type": "code",
   "execution_count": 97,
   "metadata": {},
   "outputs": [],
   "source": [
    "class knnRegressor:\n",
    "    def __init__(self):\n",
    "        pass\n",
    "    \n",
    "    def fit(self,train_X,train_y,k=5):\n",
    "        self.X = train_X\n",
    "        self.Y = train_y\n",
    "        self.k = k\n",
    "        \n",
    "    def predict(self,test_X):\n",
    "        output = []\n",
    "        for i in range(len(test_X)):\n",
    "            distance_tuple = []\n",
    "            for ii in range(len(self.X)):\n",
    "                distance_tuple.append((math.sqrt(sum([(a-b)**2 for a,b in zip(test_X.loc[i],self.X.loc[ii])])),self.Y[ii]))\n",
    "            distance_tuple.sort()\n",
    "            neighbors = distance_tuple[0:k]\n",
    "            weighted_total_neighbors = sum([i[1]/i[0] for i in neighbors])\n",
    "            total_distance = sum([1/i[0] for i in neighbors])\n",
    "            neighbors_weighted_average = weighted_total_neighbors/total_distance\n",
    "            output.append(neighbors_weighted_average)\n",
    "        \n",
    "        return output\n"
   ]
  },
  {
   "cell_type": "code",
   "execution_count": 98,
   "metadata": {},
   "outputs": [],
   "source": [
    "boston = datasets.load_boston()\n",
    "train = pd.DataFrame(boston['data'])\n",
    "target = boston['target']\n",
    "train_X,train_y,test_X,test_y = split_data(train,target,split_ratio=0.3)"
   ]
  },
  {
   "cell_type": "code",
   "execution_count": 101,
   "metadata": {},
   "outputs": [],
   "source": [
    "clf = knnRegressor()\n",
    "clf.fit(train_X,train_y,3)\n",
    "prediction = clf.predict(test_X)"
   ]
  },
  {
   "cell_type": "code",
   "execution_count": 102,
   "metadata": {},
   "outputs": [
    {
     "name": "stdout",
     "output_type": "stream",
     "text": [
      "6.021817963789219\n"
     ]
    }
   ],
   "source": [
    "print(RMSE(prediction,test_y))"
   ]
  },
  {
   "cell_type": "code",
   "execution_count": null,
   "metadata": {},
   "outputs": [],
   "source": []
  }
 ],
 "metadata": {
  "kernelspec": {
   "display_name": "Python 3",
   "language": "python",
   "name": "python3"
  },
  "language_info": {
   "codemirror_mode": {
    "name": "ipython",
    "version": 3
   },
   "file_extension": ".py",
   "mimetype": "text/x-python",
   "name": "python",
   "nbconvert_exporter": "python",
   "pygments_lexer": "ipython3",
   "version": "3.7.2"
  }
 },
 "nbformat": 4,
 "nbformat_minor": 2
}
